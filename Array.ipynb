{
  "nbformat": 4,
  "nbformat_minor": 0,
  "metadata": {
    "colab": {
      "provenance": [],
      "collapsed_sections": [],
      "authorship_tag": "ABX9TyNLwlEfHvp7yMbo85fb6u2A",
      "include_colab_link": true
    },
    "kernelspec": {
      "name": "python3",
      "display_name": "Python 3"
    },
    "language_info": {
      "name": "python"
    }
  },
  "cells": [
    {
      "cell_type": "markdown",
      "metadata": {
        "id": "view-in-github",
        "colab_type": "text"
      },
      "source": [
        "<a href=\"https://colab.research.google.com/github/hannsjaspherelalto/CPEN65-2/blob/main/Array.ipynb\" target=\"_parent\"><img src=\"https://colab.research.google.com/assets/colab-badge.svg\" alt=\"Open In Colab\"/></a>"
      ]
    },
    {
      "cell_type": "markdown",
      "source": [
        "Array"
      ],
      "metadata": {
        "id": "JHWIG1Po1p3p"
      }
    },
    {
      "cell_type": "code",
      "source": [
        "#acess\n",
        "animals = [\"cat\", \"dog\", \"fish\"]\n",
        "x = animals[0]\n",
        "y = animals[2]\n",
        "z = animals[1]\n",
        "\n",
        "print(\"Array [0] = \", x)\n",
        "print(\"Array [1] = \" + y)\n",
        "print(z)"
      ],
      "metadata": {
        "colab": {
          "base_uri": "https://localhost:8080/"
        },
        "id": "QEh_JOAz1q01",
        "outputId": "93b12be6-9767-4f46-c58c-323a8fb9410a"
      },
      "execution_count": 10,
      "outputs": [
        {
          "output_type": "stream",
          "name": "stdout",
          "text": [
            "Array [0] =  cat\n",
            "Array [1] = fish\n",
            "dog\n"
          ]
        }
      ]
    },
    {
      "cell_type": "code",
      "source": [
        "#modify\n",
        "animals = [\"cat\", \"dog\", \"fish\"]\n",
        "animals[2] = \"birb\"\n",
        "x = animals[2]\n",
        "print(x)\n",
        "print(animals)"
      ],
      "metadata": {
        "colab": {
          "base_uri": "https://localhost:8080/"
        },
        "id": "718ysaMS5fgM",
        "outputId": "c8b52612-e9a3-403a-ebe1-ffc0b2114080"
      },
      "execution_count": 13,
      "outputs": [
        {
          "output_type": "stream",
          "name": "stdout",
          "text": [
            "birb\n",
            "['cat', 'dog', 'birb']\n"
          ]
        }
      ]
    },
    {
      "cell_type": "code",
      "source": [
        "#length of array\n",
        "animals = [\"cat\", \"dog\", \"fish\", \"glob\"]\n",
        "x = len(animals)\n",
        "print(x)"
      ],
      "metadata": {
        "colab": {
          "base_uri": "https://localhost:8080/"
        },
        "id": "ZfpL3zxi6a4E",
        "outputId": "bada2839-da42-4846-a427-4088492955a3"
      },
      "execution_count": 15,
      "outputs": [
        {
          "output_type": "stream",
          "name": "stdout",
          "text": [
            "4\n"
          ]
        }
      ]
    },
    {
      "cell_type": "code",
      "source": [
        "#looping\n",
        "animals = [\"cat\", \"dog\", \"fish\", \"birb\"]\n",
        "for x in animals:\n",
        "  print(x)\n",
        "else:\n",
        "  print(\"yum\")"
      ],
      "metadata": {
        "colab": {
          "base_uri": "https://localhost:8080/"
        },
        "id": "e6oz8R2N7Hej",
        "outputId": "e91363a6-a879-4036-879e-1d674a2fde1a"
      },
      "execution_count": 28,
      "outputs": [
        {
          "output_type": "stream",
          "name": "stdout",
          "text": [
            "cat\n",
            "dog\n",
            "fish\n",
            "birb\n",
            "yum\n"
          ]
        }
      ]
    },
    {
      "cell_type": "code",
      "source": [
        "#looping\n",
        "animals = [\"cat\", \"dog\", \"fish\", \"birb\"]\n",
        "for index, x in enumerate(animals):\n",
        "  print(\"Array [\" + str(index) + \"] = \", x)\n",
        "else:\n",
        "  print(\"yum\")"
      ],
      "metadata": {
        "colab": {
          "base_uri": "https://localhost:8080/"
        },
        "id": "raS9y2cm9XpG",
        "outputId": "807bf82d-6e4a-4076-aff3-ca2ca121d312"
      },
      "execution_count": 31,
      "outputs": [
        {
          "output_type": "stream",
          "name": "stdout",
          "text": [
            "Array [0] =  cat\n",
            "Array [1] =  dog\n",
            "Array [2] =  fish\n",
            "Array [3] =  birb\n",
            "yum\n"
          ]
        }
      ]
    },
    {
      "cell_type": "code",
      "source": [
        "#adding element\n",
        "animals = [\"cat\", \"dog\", \"fish\", \"birb\"]\n",
        "animals.append(\"pengu\")\n",
        "print(animals)"
      ],
      "metadata": {
        "colab": {
          "base_uri": "https://localhost:8080/"
        },
        "id": "KsZODuOc97VF",
        "outputId": "ed5b2400-f159-4089-e014-6fc1c0768820"
      },
      "execution_count": 35,
      "outputs": [
        {
          "output_type": "stream",
          "name": "stdout",
          "text": [
            "['cat', 'dog', 'fish', 'birb', 'pengu']\n"
          ]
        }
      ]
    },
    {
      "cell_type": "code",
      "source": [
        "#adding element w/ specific position\n",
        "numbers = [1, 2, 3, 4, 5, 6, 7, 8, 9, 10]\n",
        "numbers.insert(2, 11)\n",
        "print(numbers)"
      ],
      "metadata": {
        "colab": {
          "base_uri": "https://localhost:8080/"
        },
        "id": "dsc7PZvi-Z2X",
        "outputId": "91580114-1e38-4f4d-b72d-bd49cad77e69"
      },
      "execution_count": 36,
      "outputs": [
        {
          "output_type": "stream",
          "name": "stdout",
          "text": [
            "[1, 2, 11, 3, 4, 5, 6, 7, 8, 9, 10]\n"
          ]
        }
      ]
    },
    {
      "cell_type": "code",
      "source": [
        "#removing element\n",
        "animals = [\"cat\", \"dog\", \"fish\", \"birb\"]\n",
        "print(animals)\n",
        "animals.pop(2)\n",
        "print(animals)\n",
        "animals.pop(2)\n",
        "print(animals)"
      ],
      "metadata": {
        "colab": {
          "base_uri": "https://localhost:8080/"
        },
        "id": "ifsQn4hI_Fhh",
        "outputId": "0880d02e-f9ea-413b-fede-3bdb931944f4"
      },
      "execution_count": 39,
      "outputs": [
        {
          "output_type": "stream",
          "name": "stdout",
          "text": [
            "['cat', 'dog', 'fish', 'birb']\n",
            "['cat', 'dog', 'birb']\n",
            "['cat', 'dog']\n"
          ]
        }
      ]
    }
  ]
}