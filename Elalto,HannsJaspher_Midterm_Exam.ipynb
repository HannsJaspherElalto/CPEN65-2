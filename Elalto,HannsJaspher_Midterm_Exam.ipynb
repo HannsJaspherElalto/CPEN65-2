{
  "nbformat": 4,
  "nbformat_minor": 0,
  "metadata": {
    "colab": {
      "provenance": [],
      "authorship_tag": "ABX9TyOhUxi+02Vn4iXRu4JVeacB",
      "include_colab_link": true
    },
    "kernelspec": {
      "name": "python3",
      "display_name": "Python 3"
    },
    "language_info": {
      "name": "python"
    }
  },
  "cells": [
    {
      "cell_type": "markdown",
      "metadata": {
        "id": "view-in-github",
        "colab_type": "text"
      },
      "source": [
        "<a href=\"https://colab.research.google.com/github/hannsjaspherelalto/CPEN65-2/blob/main/Elalto%2CHannsJaspher_Midterm_Exam.ipynb\" target=\"_parent\"><img src=\"https://colab.research.google.com/assets/colab-badge.svg\" alt=\"Open In Colab\"/></a>"
      ]
    },
    {
      "cell_type": "markdown",
      "source": [
        "#1"
      ],
      "metadata": {
        "id": "J9dRYyGMBKzm"
      }
    },
    {
      "cell_type": "code",
      "execution_count": 67,
      "metadata": {
        "colab": {
          "base_uri": "https://localhost:8080/"
        },
        "id": "vcxecX0V-QzW",
        "outputId": "b48db36e-9dde-432d-ce8e-d84cf7ee8813"
      },
      "outputs": [
        {
          "output_type": "stream",
          "name": "stdout",
          "text": [
            "Input index 0:   4\n",
            "Input index 1:   8\n",
            "Input index 2:   9\n",
            "Input index 3:   2\n",
            "Input index 4:   1\n",
            "Input index 5:   4\n",
            "Input index 6:   0\n",
            "Input index 7:   6\n",
            "Input index 8:   8\n",
            "Input index 9:   4\n",
            "\n",
            "Array[numbers] = \n",
            "[4, 8, 9, 2, 1, 4, 0, 6, 8, 4]\n",
            "\n",
            "Sum of the array = 44\n",
            "\n",
            "Acess Index = 5\n",
            "\n",
            "Index 5? = 4\n"
          ]
        }
      ],
      "source": [
        "numbers = []\n",
        "y=0\n",
        "\n",
        "#inputting and displaying the elements of array\n",
        "while y != 10:\n",
        "  x = int(input(\"Input index \" + str(y) + \":   \"))\n",
        "  numbers.append(x)\n",
        "  y+=1\n",
        "print(\"\\nArray[numbers] = \\n\" + str(numbers))\n",
        "\n",
        "#sum of all the elements in array\n",
        "current = 0\n",
        "for x in numbers:\n",
        "  sum = current + numbers[x]\n",
        "  current = sum\n",
        "print(\"\\nSum of the array = \" + str(sum) + \"\\n\")\n",
        "\n",
        "#accessing a certain index of the array\n",
        "req = int(input(\"Acess Index = \"))\n",
        "print(\"\\nIndex \" + str(req) + \"? = \" + str(numbers[req]))"
      ]
    },
    {
      "cell_type": "markdown",
      "source": [
        "#2"
      ],
      "metadata": {
        "id": "5n5rByyyBH8y"
      }
    },
    {
      "cell_type": "code",
      "source": [
        "x = int(input(\"Type a number: \"))\n",
        "numbers = [1, 2, 3, 4, 5, 6, 7, 8, 9, 10]\n",
        "numbers.append(x)\n",
        "print(numbers)"
      ],
      "metadata": {
        "colab": {
          "base_uri": "https://localhost:8080/"
        },
        "id": "TAKIVKsx_Ngm",
        "outputId": "639ee281-0928-4f30-abeb-6c59c839f698"
      },
      "execution_count": 46,
      "outputs": [
        {
          "output_type": "stream",
          "name": "stdout",
          "text": [
            "Type a number: 24\n",
            "[1, 2, 3, 4, 5, 6, 7, 8, 9, 10, 24]\n"
          ]
        }
      ]
    },
    {
      "cell_type": "markdown",
      "source": [
        "#3"
      ],
      "metadata": {
        "id": "yflI8x2GBJWw"
      }
    },
    {
      "cell_type": "code",
      "source": [
        "x = int(input(\"Type a number: \"))\n",
        "numbers = [1, 2, 3, 4, 5, 6, 7, 8, 9, 10]\n",
        "numbers.insert(1, x)\n",
        "print(numbers)"
      ],
      "metadata": {
        "colab": {
          "base_uri": "https://localhost:8080/"
        },
        "id": "h3Mm1keZA42O",
        "outputId": "99b13203-33ff-4547-f0c0-dda1db46bf1d"
      },
      "execution_count": 47,
      "outputs": [
        {
          "output_type": "stream",
          "name": "stdout",
          "text": [
            "Type a number: 851\n",
            "[1, 851, 2, 3, 4, 5, 6, 7, 8, 9, 10]\n"
          ]
        }
      ]
    },
    {
      "cell_type": "markdown",
      "source": [
        "#4"
      ],
      "metadata": {
        "id": "M_gkSHf4BMp8"
      }
    },
    {
      "cell_type": "code",
      "source": [
        "numbers = [5, 4, 3, 2, 1]\n",
        "numbers.reverse()\n",
        "print(*numbers)"
      ],
      "metadata": {
        "colab": {
          "base_uri": "https://localhost:8080/"
        },
        "id": "KNTDUcNBBOnV",
        "outputId": "a10df4cd-536e-4b6a-b511-9e1158a3c780"
      },
      "execution_count": 68,
      "outputs": [
        {
          "output_type": "stream",
          "name": "stdout",
          "text": [
            "1 2 3 4 5\n"
          ]
        }
      ]
    },
    {
      "cell_type": "markdown",
      "source": [
        "#5"
      ],
      "metadata": {
        "id": "IF7t8aedBPAF"
      }
    },
    {
      "cell_type": "code",
      "source": [
        "numbers = [5, 4, 3, 2, 1]\n",
        "length = len(numbers)\n",
        "print(length)"
      ],
      "metadata": {
        "colab": {
          "base_uri": "https://localhost:8080/"
        },
        "id": "Qe-SuIstBQSI",
        "outputId": "b4943662-b0fb-45d1-c94c-c32ab5d9a2d1"
      },
      "execution_count": 12,
      "outputs": [
        {
          "output_type": "stream",
          "name": "stdout",
          "text": [
            "5\n"
          ]
        }
      ]
    }
  ]
}