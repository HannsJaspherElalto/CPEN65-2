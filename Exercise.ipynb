{
  "nbformat": 4,
  "nbformat_minor": 0,
  "metadata": {
    "colab": {
      "provenance": [],
      "authorship_tag": "ABX9TyM1nLd1i+XCNh29aXojExmR",
      "include_colab_link": true
    },
    "kernelspec": {
      "name": "python3",
      "display_name": "Python 3"
    },
    "language_info": {
      "name": "python"
    }
  },
  "cells": [
    {
      "cell_type": "markdown",
      "metadata": {
        "id": "view-in-github",
        "colab_type": "text"
      },
      "source": [
        "<a href=\"https://colab.research.google.com/github/hannsjaspherelalto/CPEN65-2/blob/main/Exercise.ipynb\" target=\"_parent\"><img src=\"https://colab.research.google.com/assets/colab-badge.svg\" alt=\"Open In Colab\"/></a>"
      ]
    },
    {
      "cell_type": "code",
      "execution_count": 11,
      "metadata": {
        "colab": {
          "base_uri": "https://localhost:8080/"
        },
        "id": "3VjvCU0rBHU2",
        "outputId": "55096e1c-8aa5-4ff6-b1e9-f946de996c0e"
      },
      "outputs": [
        {
          "output_type": "stream",
          "name": "stdout",
          "text": [
            "Hanns Jaspher Elalto\n",
            "otlalE rehpsaJ snnaH\n"
          ]
        }
      ],
      "source": [
        "name = [\"H\", \"a\", \"n\", \"n\", \"s\", \" \", \"J\", \"a\", \"s\", \"p\", \"h\", \"e\", \"r\", \" \", \"E\", \"l\", \"a\", \"l\", \"t\", \"o\"]\n",
        "print(*name, sep=\"\")\n",
        "name.reverse()\n",
        "print(*name, sep=\"\")\n",
        "\n",
        "\n",
        "\n",
        "# \"*\" for unpacking"
      ]
    }
  ]
}