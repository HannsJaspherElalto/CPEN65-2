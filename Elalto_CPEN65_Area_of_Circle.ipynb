{
  "nbformat": 4,
  "nbformat_minor": 0,
  "metadata": {
    "colab": {
      "provenance": [],
      "collapsed_sections": [],
      "authorship_tag": "ABX9TyOT6RuT/J+vm5SKMafZUneG",
      "include_colab_link": true
    },
    "kernelspec": {
      "name": "python3",
      "display_name": "Python 3"
    },
    "language_info": {
      "name": "python"
    }
  },
  "cells": [
    {
      "cell_type": "markdown",
      "metadata": {
        "id": "view-in-github",
        "colab_type": "text"
      },
      "source": [
        "<a href=\"https://colab.research.google.com/github/hannsjaspherelalto/CPEN65-2/blob/main/Elalto_CPEN65_Area_of_Circle.ipynb\" target=\"_parent\"><img src=\"https://colab.research.google.com/assets/colab-badge.svg\" alt=\"Open In Colab\"/></a>"
      ]
    },
    {
      "cell_type": "code",
      "source": [
        "import math\n",
        "\n",
        "class circle_area:\n",
        "  def __init__(self, given):\n",
        "    self.given = given\n",
        "  \n",
        "  def radius_formula(self):\n",
        "    radius_formula = math.pi*(self.given**2)\n",
        "    print(\"Area = \" + str(round(radius_formula, 2)))\n",
        "  \n",
        "  def diameter_formula(self):\n",
        "    diameter_formula = (math.pi*(self.given*self.given))/4\n",
        "    print(\"Area = \" + str(round(diameter_formula, 2)))\n",
        "\n",
        "  def determinant(self):\n",
        "    if det_input == \"D\":\n",
        "      self.given = x.diameter_formula()\n",
        "    elif det_input == \"R\":\n",
        "      self.given = x.radius_formula()\n",
        "    else:\n",
        "      print(\"Please try again.\")  \n",
        "\n",
        "det_input = input(\"Enter R if the given is radius and D if the given is diameter: \")\n",
        "\n",
        "try:\n",
        " x = circle_area(float(input(\"Enter the value: \")))\n",
        " x.determinant()\n",
        "except ValueError:\n",
        " print(\"Error.\")"
      ],
      "metadata": {
        "colab": {
          "base_uri": "https://localhost:8080/"
        },
        "id": "yxrtUEEljPeA",
        "outputId": "7bc11480-31ad-40fa-ea2d-52cda3143a7d"
      },
      "execution_count": 48,
      "outputs": [
        {
          "output_type": "stream",
          "name": "stdout",
          "text": [
            "Enter R if the given is radius and D if the given is diameter: D\n",
            "Enter the value: 4.6678\n",
            "Area = 17.11\n"
          ]
        }
      ]
    }
  ]
}