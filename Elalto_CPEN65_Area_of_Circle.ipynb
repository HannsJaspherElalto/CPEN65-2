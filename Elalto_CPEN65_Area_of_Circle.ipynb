{
  "nbformat": 4,
  "nbformat_minor": 0,
  "metadata": {
    "colab": {
      "provenance": [],
      "collapsed_sections": [],
      "authorship_tag": "ABX9TyPtLFaxFwgoEtt5nba/s/fg",
      "include_colab_link": true
    },
    "kernelspec": {
      "name": "python3",
      "display_name": "Python 3"
    },
    "language_info": {
      "name": "python"
    }
  },
  "cells": [
    {
      "cell_type": "markdown",
      "metadata": {
        "id": "view-in-github",
        "colab_type": "text"
      },
      "source": [
        "<a href=\"https://colab.research.google.com/github/hannsjaspherelalto/CPEN65-2/blob/main/Elalto_CPEN65_Area_of_Circle.ipynb\" target=\"_parent\"><img src=\"https://colab.research.google.com/assets/colab-badge.svg\" alt=\"Open In Colab\"/></a>"
      ]
    },
    {
      "cell_type": "code",
      "source": [
        "class circle_area:\n",
        "  def __init__(self, given):\n",
        "    self.given = given\n",
        "  \n",
        "  def radius_formula(self):\n",
        "    radius_formula = 3.14*(self.given*self.given)\n",
        "    print(\"Area = \" + str(radius_formula))\n",
        "  \n",
        "  def diameter_formula(self):\n",
        "    diameter_formula = (3.14*(self.given*self.given))/4\n",
        "    print(\"Area = \" + str(diameter_formula))\n",
        "\n",
        "  def determinant(self):\n",
        "    if det_input == \"D\":\n",
        "      self.given = x.diameter_formula()\n",
        "    elif det_input == \"R\":\n",
        "      self.given = x.radius_formula()\n",
        "    else:\n",
        "      print(\"Please try again.\")  \n",
        "\n",
        "det_input = input(\"Enter R if the given is radius and D if the given is diameter: \")\n",
        "x = circle_area(float(input(\"Enter the value: \")))\n",
        "x.determinant()"
      ],
      "metadata": {
        "colab": {
          "base_uri": "https://localhost:8080/"
        },
        "id": "yxrtUEEljPeA",
        "outputId": "1256b6f9-1913-4ed1-b744-75f3f7d52ab2"
      },
      "execution_count": null,
      "outputs": [
        {
          "output_type": "stream",
          "name": "stdout",
          "text": [
            "Enter R if the given is radius and D if the given is diameter: R\n",
            "Enter the value: 5\n",
            "Area = 78.5\n"
          ]
        }
      ]
    }
  ]
}