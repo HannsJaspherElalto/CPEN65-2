{
  "nbformat": 4,
  "nbformat_minor": 0,
  "metadata": {
    "colab": {
      "provenance": [],
      "authorship_tag": "ABX9TyPRumgzUHEVIMFS0WianBKS",
      "include_colab_link": true
    },
    "kernelspec": {
      "name": "python3",
      "display_name": "Python 3"
    },
    "language_info": {
      "name": "python"
    }
  },
  "cells": [
    {
      "cell_type": "markdown",
      "metadata": {
        "id": "view-in-github",
        "colab_type": "text"
      },
      "source": [
        "<a href=\"https://colab.research.google.com/github/hannsjaspherelalto/CPEN65-2/blob/main/Trees_Quiz.ipynb\" target=\"_parent\"><img src=\"https://colab.research.google.com/assets/colab-badge.svg\" alt=\"Open In Colab\"/></a>"
      ]
    },
    {
      "cell_type": "code",
      "execution_count": null,
      "metadata": {
        "id": "K7OTwyKo9TUn"
      },
      "outputs": [],
      "source": [
        "6.) Children of node 16?\n",
        "      Ans: nodes 13, 6, 60\n",
        "\n",
        "7.) Parent of node 1?\n",
        "      Ans: nodes 7\n",
        "\n",
        "8.) Siblings of node 23?\n",
        "      Ans: none\n",
        "\n",
        "9.) Ancestors of node 9?\n",
        "      Ans: nodes 4, 12, 7, 22\n",
        "\n",
        "10.) Descendants of node 16?\n",
        "      Ans: nodes 13, 23, 6, 60, 21\n",
        "\n",
        "11.) Leaves.\n",
        "      Ans: nodes 23, 6, 21, 20, 9, 1\n",
        "\n",
        "12.) Non Leaves.\n",
        "      Ans: nodes 13, 16, 60, 12, 7, 22\n",
        "\n",
        "13. Depth of node 4?\n",
        "      Ans: 3\n",
        "\n",
        "14.) Degree of the tree?\n",
        "      Ans: 3\n",
        "\n",
        "15.) Height of the tree?\n",
        "      Ans: 4\n",
        "\n",
        "16.) Weight of the tree?\n",
        "      Ans: 6\n",
        "\n",
        "17.) Is the tree a binary tree?\n",
        "      Ans: \"NO\", node 16 has a degree of 3 \n",
        "\n",
        "18.) Removing 6, is the tree a full binary tree?\n",
        "      Ans: \"NO\", nodes 13 and 60 has a degree of one\n",
        "\n",
        "19.) Removing 6, is the tree a complete binary tree?\n",
        "      Ans: \"NO\", node 1, 23, 21, 20, and 9 have varying depths.\n",
        "\n",
        "20.) Is a full binary tree complete?\n",
        "      Ans: \"NO\", the leafs of a full binary tree can have different depths but \n",
        "      for a tree to be a complete k-ary tree, all leaf nodes should have the \n",
        "      same depth.\n",
        "\n",
        "21.) Is a complete binary tree full?\n",
        "      Ans: \"YES\", A complete 2-ary tree should contains leaf nodes with same\n",
        "      depth and all of the non-leaf nodes of a complete 2-ary should have a \n",
        "      degree of two to be a full binary tree.\n",
        "\n",
        "22.) How many leaves does a complete n-ary tree of height h have?.\n",
        "      Ans: by using the formula \"n^h\".\n",
        "\n",
        "23.) What is the height of a complete n-ary tree with m leaves?.\n",
        "      Ans: by using the formula \"log of m, base n\".\n",
        "\n",
        "24.) What is the number of internal nodes of a complete n-ary tree of height h?.\n",
        "      Ans: by using the formula \"(n^h-1)/(n-1)\".\n",
        "\n",
        "25.) What is the total number of nodes a complete n-ary tree of h have?\n",
        "      Ans: by using the formula \"(n^(h+1)-1)/(n-1)\"."
      ]
    }
  ]
}